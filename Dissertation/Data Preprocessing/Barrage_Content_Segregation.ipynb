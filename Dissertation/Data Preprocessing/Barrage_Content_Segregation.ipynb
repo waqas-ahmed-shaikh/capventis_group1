{
  "nbformat": 4,
  "nbformat_minor": 0,
  "metadata": {
    "colab": {
      "provenance": []
    },
    "kernelspec": {
      "name": "python3",
      "display_name": "Python 3"
    },
    "language_info": {
      "name": "python"
    }
  },
  "cells": [
    {
      "cell_type": "code",
      "source": [
        "import pandas as pd\n",
        "import json\n",
        "\n",
        "# Load the Excel file\n",
        "data = pd.read_excel('grouped_data.xlsx')"
      ],
      "metadata": {
        "id": "etKIjBSd2aOb"
      },
      "execution_count": null,
      "outputs": []
    },
    {
      "cell_type": "code",
      "source": [
        "# Function to clean and normalize the \"Barrage content\"\n",
        "def clean_barrage_content(content):\n",
        "    if pd.isna(content):\n",
        "        return []\n",
        "\n",
        "    try:\n",
        "        # Convert the string representation of the list to an actual list\n",
        "        content_list = eval(content)\n",
        "\n",
        "        # Initialize an empty list to store the cleaned data\n",
        "        cleaned_data = []\n",
        "\n",
        "        for item in content_list:\n",
        "            # Some entries might be empty strings or malformed JSON\n",
        "            if item:\n",
        "                try:\n",
        "                    json_data = json.loads(item)\n",
        "                    cleaned_data.extend(json_data)\n",
        "                except json.JSONDecodeError:\n",
        "                    continue\n",
        "\n",
        "        return cleaned_data\n",
        "    except:\n",
        "        return []"
      ],
      "metadata": {
        "id": "hOgIgGah2eLR"
      },
      "execution_count": null,
      "outputs": []
    },
    {
      "cell_type": "code",
      "source": [
        "# Apply the function to clean the \"Barrage content\" column\n",
        "data['Cleaned Barrage Content'] = data['Barrage content'].apply(clean_barrage_content)\n",
        "\n",
        "# Explode the cleaned data into separate rows for each word-count pair\n",
        "exploded_data = data.explode('Cleaned Barrage Content').reset_index(drop=True)\n",
        "\n",
        "# Normalize the 'Cleaned Barrage Content' dictionaries into separate columns\n",
        "normalized_data = pd.json_normalize(exploded_data['Cleaned Barrage Content'])\n",
        "\n",
        "# Combine the normalized data with the original dataframe\n",
        "final_data = pd.concat([exploded_data.drop(columns=['Cleaned Barrage Content']), normalized_data], axis=1)\n",
        "\n",
        "# Save the final structured data to a new Excel file\n",
        "final_data.to_excel('cleaned_grouped_data.xlsx', index=False)\n"
      ],
      "metadata": {
        "id": "J3VVUHEc0-D_"
      },
      "execution_count": 3,
      "outputs": []
    }
  ]
}