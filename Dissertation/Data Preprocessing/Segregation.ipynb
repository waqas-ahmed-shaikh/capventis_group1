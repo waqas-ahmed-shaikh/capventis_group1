{
  "nbformat": 4,
  "nbformat_minor": 0,
  "metadata": {
    "colab": {
      "provenance": []
    },
    "kernelspec": {
      "name": "python3",
      "display_name": "Python 3"
    },
    "language_info": {
      "name": "python"
    }
  },
  "cells": [
    {
      "cell_type": "code",
      "execution_count": null,
      "metadata": {
        "id": "c4c_HVMEJo7w"
      },
      "outputs": [],
      "source": [
        "import pandas as pd\n",
        "\n",
        "df = pd.read_excel('202202_english.xlsx')"
      ]
    },
    {
      "cell_type": "code",
      "source": [
        "#columns to extract\n",
        "columns_to_extract = ['product name', 'Product price', 'Product sales', 'Product Revenue', 'Categories']\n",
        "\n",
        "#new df\n",
        "df_new = df[columns_to_extract]\n",
        "\n",
        "product_name = []\n",
        "product_price = []\n",
        "product_sales = []\n",
        "product_revenue = []\n",
        "categories = []"
      ],
      "metadata": {
        "id": "vycJ_2bzK2u0"
      },
      "execution_count": null,
      "outputs": []
    },
    {
      "cell_type": "code",
      "source": [
        "# Iterate and split\n",
        "for _, row in df_new.iterrows():\n",
        "    product_name_str = str(row['product name'])\n",
        "    # Check if the converted string is an empty string\n",
        "    if product_name_str != '':\n",
        "        product_name.extend([x.strip() for x in product_name_str[2:-2].split(\"', '\")])\n",
        "        product_price.extend([x.strip() for x in str(row['Product price'])[1:-1].split(',')])\n",
        "        product_sales.extend([x.strip() for x in str(row['Product sales'])[1:-1].split(',')])\n",
        "        product_revenue.extend([x.strip() for x in str(row['Product Revenue'])[1:-1].split(',')])\n",
        "        categories_str = str(row['Categories'])\n",
        "        categories.extend([x.strip() for x in categories_str[2:-2].split(\"', '\")])\n",
        "\n",
        "max_length = max(len(product_name), len(product_price), len(product_sales), len(product_revenue), len(categories))"
      ],
      "metadata": {
        "id": "gW3kd1IRNFlj"
      },
      "execution_count": null,
      "outputs": []
    },
    {
      "cell_type": "code",
      "source": [
        "# Pad the lists with empty strings to match the maximum length\n",
        "product_name.extend([''] * (max_length - len(product_name)))\n",
        "product_price.extend([''] * (max_length - len(product_price)))\n",
        "product_sales.extend([''] * (max_length - len(product_sales)))\n",
        "product_revenue.extend([''] * (max_length - len(product_revenue)))\n",
        "categories.extend([''] * (max_length - len(categories)))\n",
        "\n",
        "# Create a new DataFrame with the extracted data\n",
        "result_df = pd.DataFrame({\n",
        "    'product name': product_name,\n",
        "    'Product price': product_price,\n",
        "    'Product sales': product_sales,\n",
        "    'Product Revenue': product_revenue,\n",
        "    'Categories': categories\n",
        "})\n",
        "\n",
        "# Save the DataFrame to an Excel file\n",
        "result_df.to_excel('product_data.xlsx', index=False)"
      ],
      "metadata": {
        "id": "RepunImNJuyc"
      },
      "execution_count": null,
      "outputs": []
    }
  ]
}