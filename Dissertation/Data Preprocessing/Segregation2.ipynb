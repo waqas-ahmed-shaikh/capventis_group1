{
  "nbformat": 4,
  "nbformat_minor": 0,
  "metadata": {
    "colab": {
      "provenance": []
    },
    "kernelspec": {
      "name": "python3",
      "display_name": "Python 3"
    },
    "language_info": {
      "name": "python"
    }
  },
  "cells": [
    {
      "cell_type": "code",
      "source": [
        "import pandas as pd\n",
        "\n",
        "df = pd.read_excel('202202_english (1).xlsx')"
      ],
      "metadata": {
        "id": "BVw92MkXPUnn"
      },
      "execution_count": 1,
      "outputs": []
    },
    {
      "cell_type": "code",
      "source": [
        "# Converting to strings\n",
        "for col in ['product name', 'Product price', 'Product sales', 'Product Revenue', 'Categories']:\n",
        "    df[col] = df[col].astype(str)\n",
        "\n",
        "#new lists\n",
        "new_data = []"
      ],
      "metadata": {
        "id": "n5zxqAiOPuMN"
      },
      "execution_count": 2,
      "outputs": []
    },
    {
      "cell_type": "code",
      "source": [
        "# Iterate through each row of the dataframe\n",
        "for _, row in df.iterrows():\n",
        "    product_names = row['product name'][2:-2].split(\"', '\")\n",
        "    product_prices = row['Product price'][1:-1].split(', ')\n",
        "    product_sales = row['Product sales'][1:-1].split(', ')\n",
        "    product_revenues = row['Product Revenue'][1:-1].split(', ')\n",
        "    categories = row['Categories'][2:-2].split(\"', '\")\n",
        "\n",
        "    # Iterate through the split lists of product names\n",
        "    for i, product_name in enumerate(product_names):\n",
        "        #new dictionary containing all the original columns from the current row\n",
        "        new_row = row.to_dict()\n",
        "\n",
        "        # Updating this dictionary with the current product name, and the corresponding values from the split lists if they exist\n",
        "        new_row['product name'] = product_name\n",
        "        new_row['Product price'] = float(product_prices[i].replace('a', '')) if i < len(product_prices) and product_prices[i].replace('a', '') != '' else None\n",
        "        new_row['Product sales'] = int(product_sales[i].replace('a', '')) if i < len(product_sales) and product_sales[i].replace('a', '') != '' else None\n",
        "        new_row['Product Revenue'] = float(product_revenues[i].replace('a', '')) if i < len(product_revenues) and product_revenues[i].replace('a', '') != '' else None\n",
        "        new_row['Categories'] = categories[i] if i < len(categories) else None\n",
        "\n",
        "        # Appending this dictionary to the list new_data\n",
        "        new_data.append(new_row)\n"
      ],
      "metadata": {
        "id": "IuJn-_EsQUFT"
      },
      "execution_count": 3,
      "outputs": []
    },
    {
      "cell_type": "code",
      "execution_count": 4,
      "metadata": {
        "id": "DcqF-x0IPQwj"
      },
      "outputs": [],
      "source": [
        "new_df = pd.DataFrame(new_data)\n",
        "new_df.to_excel(\"transformed_product_data_with_all_columns.xlsx\", index=False)\n"
      ]
    }
  ]
}